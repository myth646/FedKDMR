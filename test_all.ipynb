{
 "cells": [
  {
   "cell_type": "code",
   "execution_count": null,
   "id": "3424ad2d-41c6-49b4-afb0-952819fda676",
   "metadata": {},
   "outputs": [],
   "source": [
    "!python main_fed.py --model resnet20 --dataset cifar10 --algorithm FedMR --first_stage_bound 50"
   ]
  },
  {
   "cell_type": "code",
   "execution_count": null,
   "id": "44d6aea4-f247-4f7f-abb4-3ec603148621",
   "metadata": {},
   "outputs": [],
   "source": [
    "!python main_fed.py --model resnet20 --dataset cifar10 --algorithm FedKDMR --first_stage_bound 50"
   ]
  },
  {
   "cell_type": "code",
   "execution_count": null,
   "id": "309e0a53-187f-4d15-92a4-cac19f748917",
   "metadata": {},
   "outputs": [],
   "source": [
    "!python main_fed.py --model resnet20 --dataset cifar10 --algorithm FedAvg --first_stage_bound 50"
   ]
  },
  {
   "cell_type": "code",
   "execution_count": null,
   "id": "044a6227-41c4-4cef-8483-6393fb4c86ce",
   "metadata": {},
   "outputs": [],
   "source": []
  },
  {
   "cell_type": "code",
   "execution_count": null,
   "id": "600f845f-a7fe-4fa3-9dee-0570e18131a7",
   "metadata": {},
   "outputs": [],
   "source": [
    "!python main_fed.py --model resnet20 --dataset cifar10 --algorithm FedCodl --first_stage_bound 50 "
   ]
  },
  {
   "cell_type": "code",
   "execution_count": null,
   "id": "23422264-e7c4-4ba8-85fc-629c126d6117",
   "metadata": {},
   "outputs": [],
   "source": [
    "!python main_fed.py --model resnet20 --dataset cifar10 --algorithm Fed2WKDMR --first_stage_bound 50 "
   ]
  },
  {
   "cell_type": "code",
   "execution_count": null,
   "id": "b29b71e5-ee8c-4352-86e0-d7ef0bcc1255",
   "metadata": {},
   "outputs": [],
   "source": []
  },
  {
   "cell_type": "code",
   "execution_count": null,
   "id": "6415f53d-2f6d-4176-981c-72d9ce9e022d",
   "metadata": {},
   "outputs": [],
   "source": [
    "!python main_fed.py --model resnet20 --dataset cifar10 --algorithm Fed2Codl --first_stage_bound 50"
   ]
  },
  {
   "cell_type": "code",
   "execution_count": null,
   "id": "2e166931-61c6-4d9d-b0d7-e459901e5d8f",
   "metadata": {},
   "outputs": [],
   "source": [
    "!python main_fed.py --model resnet20 --dataset cifar10 --algorithm FedKDMR_d --first_stage_bound 50"
   ]
  },
  {
   "cell_type": "code",
   "execution_count": null,
   "id": "bb0c46ad-e910-4454-be74-c6bb39db72ca",
   "metadata": {},
   "outputs": [],
   "source": [
    "!python main_fed.py --model resnet20 --dataset cifar10 --algorithm FedCodl_revise --first_stage_bound 50"
   ]
  },
  {
   "cell_type": "code",
   "execution_count": null,
   "id": "1d85e558-7ead-492c-8f04-dd51c53359c5",
   "metadata": {},
   "outputs": [],
   "source": [
    "!python main_fed.py --model resnet20 --dataset cifar10 --algorithm Fed2WKDMR_d --first_stage_bound 50"
   ]
  },
  {
   "cell_type": "code",
   "execution_count": null,
   "id": "6a693d4c-007c-407d-a118-da0539a3b22c",
   "metadata": {},
   "outputs": [],
   "source": [
    "!python main_fed.py --model resnet20 --dataset cifar10 --algorithm Fed2Codl_revise --first_stage_bound 50"
   ]
  },
  {
   "cell_type": "code",
   "execution_count": null,
   "id": "03da4fb6-f05d-47ca-a646-4fa667202e3c",
   "metadata": {},
   "outputs": [],
   "source": [
    "!python main_fed.py --model resnet20 --dataset cifar10 --algorithm FedKDMRV3 --first_stage_bound 50"
   ]
  },
  {
   "cell_type": "code",
   "execution_count": null,
   "id": "767d8999-ed0e-474b-82a2-e23f68046bed",
   "metadata": {},
   "outputs": [],
   "source": [
    "!python main_fed.py --model resnet20 --dataset cifar10 --algorithm Fed2WKDMRV3 --first_stage_bound 50"
   ]
  },
  {
   "cell_type": "code",
   "execution_count": null,
   "id": "459c1c73-9c30-43f4-aef6-b107f57a2cb3",
   "metadata": {},
   "outputs": [],
   "source": [
    "!python main_fed.py --model resnet20 --dataset cifar10 --algorithm Fed2Codl_revise --first_stage_bound 50"
   ]
  },
  {
   "cell_type": "markdown",
   "id": "b22d6136-e9a2-48c3-9d01-277a423ac1e7",
   "metadata": {},
   "source": []
  },
  {
   "cell_type": "code",
   "execution_count": null,
   "id": "1a7751cc-7ec7-4264-bb72-e2cc6ded5a4c",
   "metadata": {},
   "outputs": [],
   "source": [
    "!python main_fed.py --model resnet20 --dataset cifar10 --algorithm FedKDMRV3 --first_stage_bound 50 --KD_alpha 0.5 --temperature 2"
   ]
  },
  {
   "cell_type": "raw",
   "id": "4a19dad4-2e69-4ce3-9e78-2780d3826566",
   "metadata": {},
   "source": [
    "!python main_fed.py --model resnet20 --dataset cifar10 --algorithm FedCodl_revise --first_stage_bound 50 --KD_alpha 0.5 --temperature 2"
   ]
  },
  {
   "cell_type": "code",
   "execution_count": null,
   "id": "eec563d4-ad6c-4886-97a6-6e5f1809cf6c",
   "metadata": {},
   "outputs": [],
   "source": [
    "!python main_fed.py --model resnet20 --dataset cifar10 --algorithm FedKDMR_d --first_stage_bound 50 --KD_alpha 0.5 --temperature 2"
   ]
  },
  {
   "cell_type": "code",
   "execution_count": null,
   "id": "95f8e4bb-b58a-4114-b28b-4cc0c974fd25",
   "metadata": {},
   "outputs": [],
   "source": [
    "!python main_fed.py --model resnet20 --dataset cifar10 --algorithm Fed2Codl_revise --first_stage_bound 50 --KD_alpha 0.5 --temperature 2"
   ]
  },
  {
   "cell_type": "code",
   "execution_count": null,
   "id": "cb9931b6-484a-4c70-b364-c4c9d3d92b69",
   "metadata": {},
   "outputs": [],
   "source": [
    "!python main_fed.py --model resnet20 --dataset cifar10 --algorithm Fed2WKDMRV3 --first_stage_bound 50 --KD_alpha 0.5 --temperature 2"
   ]
  },
  {
   "cell_type": "code",
   "execution_count": null,
   "id": "92e298c3-bdb6-49c1-98db-d7d58fb696d6",
   "metadata": {},
   "outputs": [],
   "source": []
  },
  {
   "cell_type": "code",
   "execution_count": null,
   "id": "053009e3-7dcb-4018-b1cb-137714226056",
   "metadata": {},
   "outputs": [],
   "source": [
    "!python main_fed.py --model resnet20 --dataset cifar10 --algorithm FedKDMRV3 --first_stage_bound 50 --KD_alpha 0.3 --temperature 2"
   ]
  },
  {
   "cell_type": "code",
   "execution_count": null,
   "id": "eb8faf4f-2708-45ad-8058-763bf64162f0",
   "metadata": {},
   "outputs": [],
   "source": [
    "!python main_fed.py --model resnet20 --dataset cifar10 --algorithm FedKDMR_d --first_stage_bound 50 --KD_alpha 0.3 --temperature 2"
   ]
  },
  {
   "cell_type": "code",
   "execution_count": null,
   "id": "c4def95e-2fe0-40a4-8d65-e43c41983a06",
   "metadata": {},
   "outputs": [],
   "source": [
    "!python main_fed.py --model resnet20 --dataset cifar10 --algorithm FedCodl_revise --first_stage_bound 50 --KD_alpha 0.3 --temperature 2"
   ]
  },
  {
   "cell_type": "code",
   "execution_count": null,
   "id": "2ccf1e5a-a507-441c-9a94-9a59b9014517",
   "metadata": {},
   "outputs": [],
   "source": []
  },
  {
   "cell_type": "code",
   "execution_count": null,
   "id": "ef42794e-aba4-4135-9f70-0c83177d6c36",
   "metadata": {},
   "outputs": [],
   "source": [
    "!python main_fed.py --model resnet20 --dataset cifar10 --algorithm FedKDMRV11 --first_stage_bound 50 --KD_alpha 0.5 --temperature 2"
   ]
  },
  {
   "cell_type": "code",
   "execution_count": null,
   "id": "08842508-3490-4e17-93a5-a06424ff80bd",
   "metadata": {},
   "outputs": [],
   "source": [
    "!python main_fed.py --model resnet20 --dataset cifar10 --algorithm FedKDMRV12 --first_stage_bound 50 --KD_alpha 0.5 --temperature 2"
   ]
  },
  {
   "cell_type": "code",
   "execution_count": null,
   "id": "ead8a9da-3d84-42b2-ba39-d3e61b3d9efa",
   "metadata": {},
   "outputs": [],
   "source": []
  },
  {
   "cell_type": "code",
   "execution_count": null,
   "id": "9c611d85-7e9e-4a5b-a3cb-25a072a63531",
   "metadata": {},
   "outputs": [],
   "source": [
    "!python main_fed.py --model resnet20 --dataset cifar10 --algorithm FedKDMRV21 --first_stage_bound 50 --KD_alpha 0.5 --temperature 2"
   ]
  },
  {
   "cell_type": "code",
   "execution_count": null,
   "id": "248af62d-dd13-4d9c-b12c-e015ac3e21a0",
   "metadata": {},
   "outputs": [],
   "source": [
    "!python main_fed.py --model resnet20 --dataset cifar10 --algorithm FedKDMRV22 --first_stage_bound 50 --KD_alpha 0.5 --temperature 2"
   ]
  },
  {
   "cell_type": "code",
   "execution_count": null,
   "id": "4d2f3bff-3df5-4f61-872d-04049795007c",
   "metadata": {},
   "outputs": [],
   "source": [
    "!python main_fed.py --model resnet20 --dataset cifar10 --algorithm FedKDMRV11 --first_stage_bound 50 --KD_alpha 0.3 --temperature 2"
   ]
  },
  {
   "cell_type": "code",
   "execution_count": null,
   "id": "c72602d6-48b5-416a-bf3e-659b26ba5417",
   "metadata": {},
   "outputs": [],
   "source": [
    "!python main_fed.py --model resnet20 --dataset cifar10 --algorithm FedKDMRV21 --first_stage_bound 50 --KD_alpha 0.3 --temperature 2"
   ]
  },
  {
   "cell_type": "code",
   "execution_count": null,
   "id": "18fa5dd1-c312-4101-9db3-4f7252533017",
   "metadata": {},
   "outputs": [],
   "source": [
    "!python main_fed.py --model resnet20 --dataset cifar10 --algorithm FedKDMRV12 --first_stage_bound 50 --KD_alpha 0.3 --temperature 2"
   ]
  },
  {
   "cell_type": "code",
   "execution_count": null,
   "id": "812e2707-e2f6-4681-8f66-eaefa5d92326",
   "metadata": {},
   "outputs": [],
   "source": [
    "!python main_fed.py --model resnet20 --dataset cifar10 --algorithm FedKDMRV22 --first_stage_bound 50 --KD_alpha 0.3 --temperature 2"
   ]
  },
  {
   "cell_type": "code",
   "execution_count": null,
   "id": "e0319403-5286-41bc-9054-905bbc39863a",
   "metadata": {},
   "outputs": [],
   "source": []
  },
  {
   "cell_type": "markdown",
   "id": "a7e31a53-d591-4407-8aa5-76362fa92667",
   "metadata": {},
   "source": [
    "cifar100"
   ]
  },
  {
   "cell_type": "code",
   "execution_count": null,
   "id": "ebd13f0b-0040-484e-be2d-5127c053ff8d",
   "metadata": {},
   "outputs": [],
   "source": [
    "!python main_fed.py --model resnet20 --dataset cifar10 --algorithm FedMR --num_classes 10 --first_stage_bound 50 --iid 0 --noniid_case 5 --KD_alpha 0.5 --data_beta 0.5 --temperature 2"
   ]
  },
  {
   "cell_type": "code",
   "execution_count": null,
   "id": "cc3d0115-2942-4b06-a869-51fa1aec4cf8",
   "metadata": {},
   "outputs": [],
   "source": [
    "!python main_fed.py --model resnet20 --dataset cifar10 --algorithm FedKDMRV3 --num_classes 10 --first_stage_bound 50 --iid 0 --noniid_case 5 --KD_alpha 0.5 --data_beta 0.5 --temperature 2"
   ]
  },
  {
   "cell_type": "code",
   "execution_count": null,
   "id": "2ddeebb3-4b15-426a-8da6-693551ee6fea",
   "metadata": {},
   "outputs": [],
   "source": [
    "!python main_fed.py --model resnet20 --dataset cifar10 --algorithm FedCodl --num_classes 10 --first_stage_bound 50 --iid 0 --noniid_case 5 --KD_alpha 0.5 --data_beta 0.5 --temperature 2"
   ]
  },
  {
   "cell_type": "code",
   "execution_count": null,
   "id": "d7d7ef64-07f7-4b64-a9b3-a4812168eda1",
   "metadata": {},
   "outputs": [],
   "source": [
    "!python main_fed.py --model resnet20 --dataset cifar10 --algorithm FedProx --num_classes 10 --first_stage_bound 50 --iid 0 --noniid_case 5 --KD_alpha 0.5 --data_beta 0.5 --temperature 2"
   ]
  },
  {
   "cell_type": "code",
   "execution_count": null,
   "id": "13a7667b-3705-45d0-86cb-d3474b9d6da0",
   "metadata": {},
   "outputs": [],
   "source": [
    "!python main_fed.py --model resnet20 --dataset cifar10 --algorithm FedAvg --num_classes 10 --first_stage_bound 50 --iid 0 --noniid_case 5 --KD_alpha 0.5 --data_beta 0.5 --temperature 2"
   ]
  },
  {
   "cell_type": "code",
   "execution_count": null,
   "id": "16efcfd8-fd49-411b-bf8c-2990f76c6436",
   "metadata": {},
   "outputs": [],
   "source": [
    "!python main_fed.py --model resnet20 --dataset cifar10 --algorithm FedExP --num_classes 10 --first_stage_bound 50 --iid 0 --noniid_case 5 --KD_alpha 0.5 --data_beta 0.5 --temperature 2"
   ]
  },
  {
   "cell_type": "code",
   "execution_count": null,
   "id": "6523ddf6-223b-4d94-b4e9-be6c7edab648",
   "metadata": {},
   "outputs": [],
   "source": [
    "!python main_fed.py --model resnet20 --dataset cifar10 --algorithm FedKDMRV11 --num_classes 10 --first_stage_bound 50 --iid 0 --noniid_case 5 --KD_alpha 0.5 --data_beta 0.5 --temperature 2"
   ]
  },
  {
   "cell_type": "code",
   "execution_count": null,
   "id": "008e66d1-24e3-458f-9a52-f0a9bd4a4885",
   "metadata": {},
   "outputs": [],
   "source": [
    "!python main_fed.py --model resnet20 --dataset cifar10 --algorithm FedKDMRV21 --num_classes 10 --first_stage_bound 50 --iid 0 --noniid_case 5 --KD_alpha 0.5 --data_beta 0.5 --temperature 2"
   ]
  },
  {
   "cell_type": "code",
   "execution_count": null,
   "id": "3898f255-50b9-4426-9e8e-6b862c4d1501",
   "metadata": {},
   "outputs": [],
   "source": []
  },
  {
   "cell_type": "code",
   "execution_count": null,
   "id": "5ce41da3-086b-4b86-a163-27217aa78a03",
   "metadata": {},
   "outputs": [],
   "source": [
    "!python main_fed.py --model resnet20 --dataset cifar100 --algorithm FedKDMRV3 --num_classes 20 --first_stage_bound 50 --iid 0 --noniid_case 5 --KD_alpha 0.5 --data_beta 0.1 --temperature 2"
   ]
  },
  {
   "cell_type": "code",
   "execution_count": null,
   "id": "ef2ddb39-c518-49e1-a2d0-e4ba18e898ef",
   "metadata": {},
   "outputs": [],
   "source": []
  },
  {
   "cell_type": "code",
   "execution_count": null,
   "id": "6ac5f5c8-ba8a-435c-80c1-72a4ecde9172",
   "metadata": {},
   "outputs": [],
   "source": [
    "!python main_fed.py --model resnet20 --dataset cifar100 --algorithm FedMR --num_classes 20 --first_stage_bound 0 --KD_alpha 0.5 --temperature 2"
   ]
  },
  {
   "cell_type": "code",
   "execution_count": null,
   "id": "79047562-b0e3-429b-9a0b-ffcb862f6d7b",
   "metadata": {},
   "outputs": [],
   "source": [
    "!python main_fed.py --model resnet20 --dataset cifar100 --algorithm FedKDMRV3 --num_classes 20 --first_stage_bound 0 --KD_alpha 0.5 --temperature 2"
   ]
  },
  {
   "cell_type": "code",
   "execution_count": null,
   "id": "01b67747-4535-494a-8aeb-82efec38b4ef",
   "metadata": {},
   "outputs": [],
   "source": [
    "!python main_fed.py --model resnet20 --dataset cifar100 --algorithm FedKDMRV11 --num_classes 20 --first_stage_bound 0 --KD_alpha 0.5 --temperature 2"
   ]
  },
  {
   "cell_type": "code",
   "execution_count": null,
   "id": "51f15688-fc4c-4bb3-901f-1b5a7831bef1",
   "metadata": {},
   "outputs": [],
   "source": [
    "!python main_fed.py --model resnet20 --dataset cifar100 --algorithm FedCodl --num_classes 20 --first_stage_bound 0 --KD_alpha 0.5 --temperature 2"
   ]
  },
  {
   "cell_type": "code",
   "execution_count": null,
   "id": "7f102445-1f96-42e6-81ef-f36e2089ecbb",
   "metadata": {},
   "outputs": [],
   "source": []
  },
  {
   "cell_type": "code",
   "execution_count": null,
   "id": "4a6e9f0c-c43a-4a76-8e17-c1aa8f7c96ac",
   "metadata": {},
   "outputs": [],
   "source": []
  },
  {
   "cell_type": "code",
   "execution_count": null,
   "id": "6853c6a4-a5cd-4868-8392-a1f217645934",
   "metadata": {},
   "outputs": [],
   "source": []
  },
  {
   "cell_type": "code",
   "execution_count": null,
   "id": "fc8f8488-5596-4bbc-bb4c-341ac7132e47",
   "metadata": {},
   "outputs": [],
   "source": []
  },
  {
   "cell_type": "code",
   "execution_count": null,
   "id": "bc4d06e4-3346-480e-84e7-24ccbbed9f00",
   "metadata": {},
   "outputs": [],
   "source": []
  },
  {
   "cell_type": "code",
   "execution_count": null,
   "id": "b195ae8c-515e-40d5-9562-561d5dd7515c",
   "metadata": {},
   "outputs": [],
   "source": [
    "!python main_fed.py --model resnet20 --dataset fashion-mnist --algorithm FedMR --num_classes 10 --num_channels 1 --first_stage_bound 50 --iid 0 --noniid_case 5 --KD_alpha 0.5 --data_beta 0.1 --temperature 2"
   ]
  },
  {
   "cell_type": "code",
   "execution_count": null,
   "id": "0e92803d-9631-4532-8d40-357d00113cb8",
   "metadata": {},
   "outputs": [],
   "source": [
    "!python main_fed.py --model resnet20 --dataset fashion-mnist --algorithm FedKDMRV3 --num_classes 10 --num_channels 1 --first_stage_bound 50 --iid 0 --noniid_case 5 --KD_alpha 0.5 --data_beta 0.1 --temperature 2"
   ]
  },
  {
   "cell_type": "code",
   "execution_count": null,
   "id": "4553fb98-65cb-4a6f-8d6e-bf143187a091",
   "metadata": {},
   "outputs": [],
   "source": [
    "!python main_fed.py --model resnet20 --dataset fashion-mnist --algorithm FedAvg --num_classes 10 --num_channels 1 --first_stage_bound 50 --iid 0 --noniid_case 5 --KD_alpha 0.5 --data_beta 0.1 --temperature 2"
   ]
  },
  {
   "cell_type": "code",
   "execution_count": null,
   "id": "0572acde-e88e-4b16-942b-cc2d37fe6250",
   "metadata": {},
   "outputs": [],
   "source": [
    "!python main_fed.py --model resnet20 --dataset fashion-mnist --algorithm FedExP --num_classes 10 --num_channels 1 --first_stage_bound 50 --iid 0 --noniid_case 5 --KD_alpha 0.5 --data_beta 0.1 --temperature 2"
   ]
  },
  {
   "cell_type": "code",
   "execution_count": null,
   "id": "2cc151c5-435d-4a5f-9842-25ccadcd318f",
   "metadata": {},
   "outputs": [],
   "source": [
    "!python main_fed.py --model resnet20 --dataset fashion-mnist --algorithm FedCodl --num_classes 10 --num_channels 1 --first_stage_bound 50 --iid 0 --noniid_case 5 --KD_alpha 0.5 --data_beta 0.1 --temperature 2"
   ]
  },
  {
   "cell_type": "code",
   "execution_count": null,
   "id": "8e394954-df8b-48e7-b429-e0f56a20c5be",
   "metadata": {},
   "outputs": [],
   "source": [
    "!python main_fed.py --model resnet20 --dataset fashion-mnist --algorithm FedProx --num_classes 10 --num_channels 1 --first_stage_bound 50 --iid 0 --noniid_case 5 --KD_alpha 0.5 --data_beta 0.1 --temperature 2"
   ]
  },
  {
   "cell_type": "code",
   "execution_count": null,
   "id": "6bddc63b-800a-418c-8e50-8fb8ed4a7d64",
   "metadata": {},
   "outputs": [],
   "source": [
    "!python main_fed.py --model resnet20 --dataset fashion-mnist --algorithm FedKDMRV11 --num_classes 10 --num_channels 1 --first_stage_bound 50 --iid 0 --noniid_case 5 --KD_alpha 0.5 --data_beta 0.1 --temperature 2"
   ]
  },
  {
   "cell_type": "code",
   "execution_count": null,
   "id": "0364b61b-2fa5-4bf9-b327-0888ba7594bb",
   "metadata": {},
   "outputs": [],
   "source": [
    "!python main_fed.py --model resnet20 --dataset fashion-mnist --algorithm FedKDMRV21 --num_classes 10 --num_channels 1 --first_stage_bound 50 --iid 0 --noniid_case 5 --KD_alpha 0.5 --data_beta 0.1 --temperature 2"
   ]
  },
  {
   "cell_type": "code",
   "execution_count": null,
   "id": "3f161cf8-a626-40fc-a169-11f31287cbd8",
   "metadata": {},
   "outputs": [],
   "source": [
    "import torch\n",
    "print(torch.version.cuda, torch.cuda.is_available())"
   ]
  },
  {
   "cell_type": "code",
   "execution_count": null,
   "id": "2f76211c-2cab-4a2a-9959-c65522db2660",
   "metadata": {},
   "outputs": [],
   "source": []
  },
  {
   "cell_type": "code",
   "execution_count": null,
   "id": "31fed67d-3282-4b07-986e-7e3e31fd17c2",
   "metadata": {},
   "outputs": [],
   "source": [
    "!python main_fed.py --model resnet20 --dataset emnist --emnist_type bymerge --algorithm FedMR --num_classes 47 --num_channels 1 --epochs 1000 --first_stage_bound 50 --iid 0 --noniid_case 5 --KD_alpha 0.5 --data_beta 0.5 --temperature 2 --local_bs 64 --bs 256"
   ]
  },
  {
   "cell_type": "code",
   "execution_count": null,
   "id": "743aa10a-9058-4cb5-b77e-5b9c9e0044ff",
   "metadata": {},
   "outputs": [],
   "source": [
    "!python main_fed.py --model resnet20 --dataset emnist --emnist_type bymerge --algorithm FedKDMRV3 --num_classes 47 --num_channels 1 --epochs 1000 --first_stage_bound 50 --iid 0 --noniid_case 5 --KD_alpha 0.5 --data_beta 0.5 --temperature 2 --local_bs 64 --bs 256"
   ]
  },
  {
   "cell_type": "code",
   "execution_count": null,
   "id": "9e177a4a-4697-418d-9c25-13469ad248c1",
   "metadata": {},
   "outputs": [],
   "source": [
    "!python main_fed.py --model resnet20 --dataset emnist --emnist_type bymerge --algorithm FedCodl --num_classes 47 --num_channels 1 --epochs 1000 --first_stage_bound 50 --iid 0 --noniid_case 5 --KD_alpha 0.5 --data_beta 0.5 --temperature 2 --local_bs 64 --bs 256"
   ]
  },
  {
   "cell_type": "code",
   "execution_count": null,
   "id": "8eb20e5f-3924-4698-a3c1-39d1fbc80166",
   "metadata": {},
   "outputs": [],
   "source": [
    "!python main_fed.py --model resnet20 --dataset emnist --emnist_type byclass --algorithm FedMR --num_classes 62 --num_channels 1 --epochs 1000 --first_stage_bound 50 --iid 0 --noniid_case 5 --KD_alpha 0.5 --data_beta 0.5 --temperature 2 --local_bs 64 --bs 256"
   ]
  },
  {
   "cell_type": "code",
   "execution_count": null,
   "id": "6b883966-ff75-4a20-811d-fda2973e8c9e",
   "metadata": {},
   "outputs": [],
   "source": [
    "!python main_fed.py --model resnet20 --dataset emnist --emnist_type byclass --algorithm FedKDMRV3 --num_classes 62 --num_channels 1 --epochs 1000 --first_stage_bound 50 --iid 0 --noniid_case 5 --KD_alpha 0.5 --data_beta 0.5 --temperature 2 --local_bs 64 --bs 256"
   ]
  },
  {
   "cell_type": "code",
   "execution_count": null,
   "id": "9ff2a519-a6fa-4c7e-9687-3d02c77eb9df",
   "metadata": {},
   "outputs": [],
   "source": [
    "!python main_fed.py --model resnet20 --dataset emnist --emnist_type byclass --algorithm FedCodl --num_classes 62 --num_channels 1 --epochs 1000 --first_stage_bound 50 --iid 0 --noniid_case 5 --KD_alpha 0.5 --data_beta 0.5 --temperature 2 --local_bs 64 --bs 256"
   ]
  },
  {
   "cell_type": "code",
   "execution_count": null,
   "id": "6faf0f71-5bbf-467e-a19f-2b1f14a18924",
   "metadata": {},
   "outputs": [],
   "source": [
    "!python main_fed.py --model resnet20 --dataset emnist --emnist_type byclass --algorithm FedMR --num_classes 62 --num_channels 1 --epochs 1000 --lr 0.001 --optimizer adam --first_stage_bound 50 --iid 0 --noniid_case 5 --KD_alpha 0.5 --data_beta 0.5 --temperature 2 --local_bs 64 --bs 256"
   ]
  },
  {
   "cell_type": "code",
   "execution_count": null,
   "id": "c8cd6dd9-01ac-461a-b8b4-b821da241da7",
   "metadata": {},
   "outputs": [],
   "source": [
    "!python main_fed.py --model resnet20 --dataset emnist --emnist_type byclass --algorithm FedKDMRV3 --num_classes 62 --num_channels 1 --epochs 1000 --lr 0.001 --optimizer adam --first_stage_bound 50 --iid 0 --noniid_case 5 --KD_alpha 0.5 --data_beta 0.5 --temperature 2 --local_bs 64 --bs 256"
   ]
  },
  {
   "cell_type": "code",
   "execution_count": null,
   "id": "70f7976f-d90f-4298-970f-6192b36378ac",
   "metadata": {},
   "outputs": [],
   "source": [
    "!python main_fed.py --model resnet20 --dataset emnist --emnist_type byclass --algorithm FedCodl --num_classes 62 --num_channels 1 --epochs 1000 --lr 0.001 --optimizer adam --first_stage_bound 50 --iid 0 --noniid_case 5 --KD_alpha 0.5 --data_beta 0.5 --temperature 2 --local_bs 64 --bs 256"
   ]
  },
  {
   "cell_type": "code",
   "execution_count": null,
   "id": "c221d4de-a2a8-431f-ba6e-4c735fd0f00b",
   "metadata": {},
   "outputs": [],
   "source": []
  },
  {
   "cell_type": "code",
   "execution_count": null,
   "id": "3d7c9352-69c7-4710-a2f8-e9ce9e2a89d9",
   "metadata": {},
   "outputs": [],
   "source": []
  },
  {
   "cell_type": "code",
   "execution_count": null,
   "id": "6ff6bf1c-fa8f-4fb1-821b-cb7b60d5e69e",
   "metadata": {},
   "outputs": [],
   "source": []
  },
  {
   "cell_type": "code",
   "execution_count": null,
   "id": "aa80b470-a7d0-4dd1-8aff-fc134868768f",
   "metadata": {},
   "outputs": [],
   "source": []
  },
  {
   "cell_type": "code",
   "execution_count": null,
   "id": "83fed7f0-3f89-46dc-a98b-1af276b8966c",
   "metadata": {},
   "outputs": [],
   "source": []
  }
 ],
 "metadata": {
  "kernelspec": {
   "display_name": "Python [conda env:base] *",
   "language": "python",
   "name": "conda-base-py"
  },
  "language_info": {
   "codemirror_mode": {
    "name": "ipython",
    "version": 3
   },
   "file_extension": ".py",
   "mimetype": "text/x-python",
   "name": "python",
   "nbconvert_exporter": "python",
   "pygments_lexer": "ipython3",
   "version": "3.10.13"
  }
 },
 "nbformat": 4,
 "nbformat_minor": 5
}
