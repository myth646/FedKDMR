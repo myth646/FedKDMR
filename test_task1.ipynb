{
 "cells": [
  {
   "cell_type": "code",
   "execution_count": null,
   "id": "b195ae8c-515e-40d5-9562-561d5dd7515c",
   "metadata": {},
   "outputs": [],
   "source": [
    "!python main_fed.py --model resnet20 --dataset fashion-mnist --algorithm FedMR --num_classes 10 --num_channels 1 --first_stage_bound 50 --iid 0 --noniid_case 5 --KD_alpha 0.5 --data_beta 0.5 --temperature 2 --local_bs 64 --bs 256"
   ]
  },
  {
   "cell_type": "code",
   "execution_count": null,
   "id": "0e92803d-9631-4532-8d40-357d00113cb8",
   "metadata": {},
   "outputs": [],
   "source": [
    "!python main_fed.py --model resnet20 --dataset fashion-mnist --algorithm FedKDMR --num_classes 10 --num_channels 1 --first_stage_bound 50 --iid 0 --noniid_case 5 --KD_alpha 0.5 --data_beta 0.5 --temperature 2 --local_bs 64 --bs 256"
   ]
  },
  {
   "cell_type": "code",
   "execution_count": null,
   "id": "2cc151c5-435d-4a5f-9842-25ccadcd318f",
   "metadata": {},
   "outputs": [],
   "source": [
    "!python main_fed.py --model resnet20 --dataset fashion-mnist --algorithm FedCodl --num_classes 10 --num_channels 1 --first_stage_bound 50 --iid 0 --noniid_case 5 --KD_alpha 0.5 --data_beta 0.5 --temperature 2 --local_bs 64 --bs 256"
   ]
  },
  {
   "cell_type": "code",
   "execution_count": null,
   "id": "4553fb98-65cb-4a6f-8d6e-bf143187a091",
   "metadata": {},
   "outputs": [],
   "source": [
    "!python main_fed.py --model resnet20 --dataset fashion-mnist --algorithm FedAvg --num_classes 10 --num_channels 1 --first_stage_bound 50 --iid 0 --noniid_case 5 --KD_alpha 0.5 --data_beta 0.5 --temperature 2 --local_bs 64 --bs 256"
   ]
  },
  {
   "cell_type": "code",
   "execution_count": null,
   "id": "0572acde-e88e-4b16-942b-cc2d37fe6250",
   "metadata": {},
   "outputs": [],
   "source": [
    "!python main_fed.py --model resnet20 --dataset fashion-mnist --algorithm FedProx --num_classes 10 --num_channels 1 --first_stage_bound 50 --iid 0 --noniid_case 5 --KD_alpha 0.5 --data_beta 0.5 --temperature 2 --local_bs 64 --bs 256"
   ]
  },
  {
   "cell_type": "markdown",
   "id": "b8fc8881-6e1f-486d-b9fc-33999a23ca24",
   "metadata": {},
   "source": [
    "0.1 CIFAR100 MR KDMRV3"
   ]
  },
  {
   "cell_type": "code",
   "execution_count": null,
   "id": "0b48ddb4-2f20-4ffc-901f-7b102835f4e3",
   "metadata": {},
   "outputs": [],
   "source": [
    "!python main_fed.py --model resnet20 --dataset cifar100 --algorithm FedMR --num_classes 20 --first_stage_bound 50 --iid 0 --noniid_case 5 --KD_alpha 0.5 --data_beta 0.1 --temperature 2 --local_bs 64 --bs 256"
   ]
  },
  {
   "cell_type": "code",
   "execution_count": null,
   "id": "2c7b79f8-fe65-49a6-a5cc-ff48a8afafeb",
   "metadata": {},
   "outputs": [],
   "source": [
    "!python main_fed.py --model resnet20 --dataset cifar100 --algorithm FedKDMR --num_classes 20 --first_stage_bound 50 --iid 0 --noniid_case 5 --KD_alpha 0.5 --data_beta 0.1 --temperature 2 --local_bs 64 --bs 256"
   ]
  },
  {
   "cell_type": "code",
   "execution_count": null,
   "id": "6341f40f-962a-46c1-964b-96f76c0354cf",
   "metadata": {},
   "outputs": [],
   "source": []
  },
  {
   "cell_type": "code",
   "execution_count": null,
   "id": "34cb0e23-1962-4c24-9d3e-7c779850f034",
   "metadata": {},
   "outputs": [],
   "source": []
  },
  {
   "cell_type": "markdown",
   "id": "d7626af0-3d87-44a4-a085-005ea4a2dd8d",
   "metadata": {},
   "source": [
    "IID"
   ]
  },
  {
   "cell_type": "code",
   "execution_count": null,
   "id": "7d5373d2-53ab-485f-8ced-3d3439f65c45",
   "metadata": {},
   "outputs": [],
   "source": [
    "!python main_fed.py --model resnet20 --dataset cifar10 --algorithm FedProx --first_stage_bound 50 --KD_alpha 0.5 --temperature 2"
   ]
  },
  {
   "cell_type": "code",
   "execution_count": null,
   "id": "f9b83218-a410-4bb2-aa7d-4cff731f11e4",
   "metadata": {},
   "outputs": [],
   "source": [
    "!python main_fed.py --model resnet20 --dataset cifar100 --algorithm FedProx --num_classes 20 --first_stage_bound 0 --KD_alpha 0.5 --temperature 2"
   ]
  },
  {
   "cell_type": "code",
   "execution_count": null,
   "id": "db18e99f-f7fd-4f74-b263-a0d981deb66e",
   "metadata": {},
   "outputs": [],
   "source": []
  },
  {
   "cell_type": "code",
   "execution_count": null,
   "id": "faeba1a8-ccc5-4f57-b10d-059dbc5b8cad",
   "metadata": {},
   "outputs": [],
   "source": []
  }
 ],
 "metadata": {
  "kernelspec": {
   "display_name": "Python [conda env:base] *",
   "language": "python",
   "name": "conda-base-py"
  },
  "language_info": {
   "codemirror_mode": {
    "name": "ipython",
    "version": 3
   },
   "file_extension": ".py",
   "mimetype": "text/x-python",
   "name": "python",
   "nbconvert_exporter": "python",
   "pygments_lexer": "ipython3",
   "version": "3.10.13"
  }
 },
 "nbformat": 4,
 "nbformat_minor": 5
}
