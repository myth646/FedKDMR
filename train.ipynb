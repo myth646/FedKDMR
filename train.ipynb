{
 "cells": [
  {
   "cell_type": "markdown",
   "id": "d7626af0-3d87-44a4-a085-005ea4a2dd8d",
   "metadata": {},
   "source": [
    "IID"
   ]
  },
  {
   "cell_type": "code",
   "execution_count": null,
   "id": "94c7b529-1c76-4b5d-a561-b1d46b0b988e",
   "metadata": {},
   "outputs": [],
   "source": [
    "!pip install ujson"
   ]
  },
  {
   "cell_type": "code",
   "execution_count": null,
   "id": "7d5373d2-53ab-485f-8ced-3d3439f65c45",
   "metadata": {},
   "outputs": [],
   "source": [
    "!python main_fed.py --model resnet20 --dataset cifar10 --algorithm FedProx --first_stage_bound 50 --KD_alpha 0.5 --temperature 2"
   ]
  },
  {
   "cell_type": "code",
   "execution_count": null,
   "id": "faeba1a8-ccc5-4f57-b10d-059dbc5b8cad",
   "metadata": {},
   "outputs": [],
   "source": [
    "!python main_fed.py --model resnet20 --dataset fashion-mnist --algorithm FedMR --num_classes 10 --num_channels 1 --first_stage_bound 50 --KD_alpha 0.5 --temperature 2 --local_bs 64 --bs 256"
   ]
  },
  {
   "cell_type": "code",
   "execution_count": null,
   "id": "f6c70821-6abe-418b-a186-0a81014be515",
   "metadata": {},
   "outputs": [],
   "source": [
    "!python main_fed.py --model resnet20 --dataset fashion-mnist --algorithm FedKDMR --num_classes 10 --num_channels 1 --first_stage_bound 50 --KD_alpha 0.5 --temperature 2 --local_bs 64 --bs 256"
   ]
  },
  {
   "cell_type": "code",
   "execution_count": null,
   "id": "70f000df-571c-45b5-b11f-498b651b572e",
   "metadata": {},
   "outputs": [],
   "source": [
    "!python main_fed.py --model resnet20 --dataset fashion-mnist --algorithm FedCodl --num_classes 10 --num_channels 1 --first_stage_bound 50 --KD_alpha 0.5 --temperature 2 --local_bs 64 --bs 256"
   ]
  },
  {
   "cell_type": "code",
   "execution_count": null,
   "id": "fc8c39ce-8fff-4c98-ac2d-4eba3cea3e7a",
   "metadata": {},
   "outputs": [],
   "source": [
    "!python main_fed.py --model resnet20 --dataset fashion-mnist --algorithm FedAvg --num_classes 10 --num_channels 1 --first_stage_bound 50 --KD_alpha 0.5 --temperature 2 --local_bs 64 --bs 256"
   ]
  },
  {
   "cell_type": "code",
   "execution_count": null,
   "id": "db18e99f-f7fd-4f74-b263-a0d981deb66e",
   "metadata": {},
   "outputs": [],
   "source": [
    "!python main_fed.py --model resnet20 --dataset fashion-mnist --algorithm FedProx --num_classes 10 --num_channels 1 --first_stage_bound 50 --KD_alpha 0.5 --temperature 2 --local_bs 64 --bs 256"
   ]
  },
  {
   "cell_type": "code",
   "execution_count": null,
   "id": "9caee140-6a0c-4b17-922b-d3f07096fda9",
   "metadata": {},
   "outputs": [],
   "source": []
  },
  {
   "cell_type": "code",
   "execution_count": null,
   "id": "4d867430-ef54-449d-9add-3d5c0ffed3ae",
   "metadata": {},
   "outputs": [],
   "source": [
    "!python main_fed.py --model resnet20 --dataset fashion-mnist --algorithm FedMR --num_classes 10 --num_channels 1 --first_stage_bound 50 --iid 0 --noniid_case 5 --KD_alpha 0.5 --data_beta 0.5 --temperature 2 --local_bs 64 --bs 256"
   ]
  },
  {
   "cell_type": "code",
   "execution_count": null,
   "id": "50232b1a-55da-4f51-9b38-f2886bb3ed06",
   "metadata": {},
   "outputs": [],
   "source": [
    "!python main_fed.py --model resnet20 --dataset fashion-mnist --algorithm FedKDMR --num_classes 10 --num_channels 1 --first_stage_bound 50 --iid 0 --noniid_case 5 --KD_alpha 0.5 --data_beta 0.5 --temperature 2 --local_bs 64 --bs 256"
   ]
  },
  {
   "cell_type": "code",
   "execution_count": null,
   "id": "3b4dd3f6-0ad4-4d39-b67e-caeee6b1d8e6",
   "metadata": {},
   "outputs": [],
   "source": [
    "!python main_fed.py --model resnet20 --dataset fashion-mnist --algorithm FedCodl --num_classes 10 --num_channels 1 --first_stage_bound 50 --iid 0 --noniid_case 5 --KD_alpha 0.5 --data_beta 0.5 --temperature 2 --local_bs 64 --bs 256"
   ]
  },
  {
   "cell_type": "code",
   "execution_count": null,
   "id": "1f92cbbc-1867-42e2-ab8a-aff5354e8fca",
   "metadata": {},
   "outputs": [],
   "source": [
    "!python main_fed.py --model resnet20 --dataset fashion-mnist --algorithm FedAvg --num_classes 10 --num_channels 1 --first_stage_bound 50 --iid 0 --noniid_case 5 --KD_alpha 0.5 --data_beta 0.5 --temperature 2 --local_bs 64 --bs 256"
   ]
  },
  {
   "cell_type": "code",
   "execution_count": null,
   "id": "3d8262db-3334-4408-a96d-460671748b92",
   "metadata": {},
   "outputs": [],
   "source": [
    "!python main_fed.py --model resnet20 --dataset fashion-mnist --algorithm FedProx --num_classes 10 --num_channels 1 --first_stage_bound 50 --iid 0 --noniid_case 5 --KD_alpha 0.5 --data_beta 0.5 --temperature 2 --local_bs 64 --bs 256"
   ]
  },
  {
   "cell_type": "code",
   "execution_count": null,
   "id": "0a86083e-7d89-42fb-b75f-a44b95e5d1c9",
   "metadata": {},
   "outputs": [],
   "source": []
  },
  {
   "cell_type": "code",
   "execution_count": null,
   "id": "a6af3680-be0e-4c9f-926b-c46c35b2faf1",
   "metadata": {},
   "outputs": [],
   "source": [
    "!python main_fed.py --model resnet20 --dataset cifar100 --algorithm FedAvg --num_classes 20 --first_stage_bound 50 --iid 0 --noniid_case 5 --KD_alpha 0.5 --data_beta 0.1 --temperature 2 --local_bs 64 --bs 256"
   ]
  },
  {
   "cell_type": "code",
   "execution_count": null,
   "id": "28d9fee6-0eb3-4909-a54a-96e975f5c495",
   "metadata": {},
   "outputs": [],
   "source": [
    "!python main_fed.py --model resnet20 --dataset cifar100 --algorithm FedKDMR --num_classes 20 --first_stage_bound 50 --iid 0 --noniid_case 5 --KD_alpha 0.5 --data_beta 0.1 --temperature 2 --local_bs 64 --bs 256"
   ]
  },
  {
   "cell_type": "code",
   "execution_count": null,
   "id": "d9b77ab4-f63b-4383-be8a-4f131a327b41",
   "metadata": {},
   "outputs": [],
   "source": []
  },
  {
   "cell_type": "code",
   "execution_count": null,
   "id": "23f3b3e4-1761-4166-9cc1-5a6586defbd1",
   "metadata": {},
   "outputs": [],
   "source": []
  },
  {
   "cell_type": "code",
   "execution_count": null,
   "id": "7f9b6807-5afb-4c1e-b7b7-9ec997328f22",
   "metadata": {},
   "outputs": [],
   "source": []
  },
  {
   "cell_type": "code",
   "execution_count": null,
   "id": "4a8bea9e-1c5d-4afc-952e-0ee44db36bbd",
   "metadata": {},
   "outputs": [],
   "source": []
  },
  {
   "cell_type": "markdown",
   "id": "25646881-574f-4633-8298-a7b68ee54500",
   "metadata": {},
   "source": [
    "0.1 cifar100 prox"
   ]
  },
  {
   "cell_type": "code",
   "execution_count": null,
   "id": "8344badd-73f9-409d-b656-ff9380421228",
   "metadata": {},
   "outputs": [],
   "source": [
    "!python main_fed.py --model resnet20 --dataset cifar100 --algorithm FedProx --num_classes 20 --first_stage_bound 50 --iid 0 --noniid_case 5 --KD_alpha 0.5 --data_beta 0.1 --temperature 2"
   ]
  }
 ],
 "metadata": {
  "kernelspec": {
   "display_name": "Python [conda env:base] *",
   "language": "python",
   "name": "conda-base-py"
  },
  "language_info": {
   "codemirror_mode": {
    "name": "ipython",
    "version": 3
   },
   "file_extension": ".py",
   "mimetype": "text/x-python",
   "name": "python",
   "nbconvert_exporter": "python",
   "pygments_lexer": "ipython3",
   "version": "3.10.13"
  }
 },
 "nbformat": 4,
 "nbformat_minor": 5
}
